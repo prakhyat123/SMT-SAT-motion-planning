{
 "cells": [
  {
   "cell_type": "code",
   "execution_count": 2,
   "metadata": {},
   "outputs": [],
   "source": [
    "obstcales=[[2,0],[3,0],[1,2],[3,2],[1,4],[2,4]]"
   ]
  },
  {
   "cell_type": "code",
   "execution_count": 5,
   "metadata": {},
   "outputs": [],
   "source": [
    "statechange=[[[0, 1], [0, 1], [0, 0], [1, 1]],\n",
    " [[1, 0], [0, 1], [1, 1], [1, 1]],\n",
    " [[1, 1], [0, -1], [1, 0], [1, 0]],\n",
    " [[0, 1], [0, 0], [1, 1], [0, 0]],\n",
    " [[-1, 0], [1, -1], [0, -1], [-1, 1]],\n",
    " [[-1, 1], [-1, -1], [0, -1], [1, 0]]]"
   ]
  },
  {
   "cell_type": "code",
   "execution_count": null,
   "metadata": {},
   "outputs": [],
   "source": []
  }
 ],
 "metadata": {
  "kernelspec": {
   "display_name": "Python 3",
   "language": "python",
   "name": "python3"
  },
  "language_info": {
   "codemirror_mode": {
    "name": "ipython",
    "version": 3
   },
   "file_extension": ".py",
   "mimetype": "text/x-python",
   "name": "python",
   "nbconvert_exporter": "python",
   "pygments_lexer": "ipython3",
   "version": "3.7.4"
  }
 },
 "nbformat": 4,
 "nbformat_minor": 2
}
