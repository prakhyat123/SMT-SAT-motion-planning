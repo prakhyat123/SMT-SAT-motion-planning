{
 "cells": [
  {
   "cell_type": "markdown",
   "metadata": {},
   "source": [
    "# "
   ]
  },
  {
   "cell_type": "code",
   "execution_count": 1,
   "metadata": {},
   "outputs": [],
   "source": [
    "f= open(\"input.txt\",\"w+\")"
   ]
  },
  {
   "cell_type": "code",
   "execution_count": 2,
   "metadata": {},
   "outputs": [],
   "source": [
    "#Make span\n",
    "L=7\n",
    "N=5\n",
    "R=2\n",
    "# initial position fo robot 1\n",
    "r1x=0\n",
    "r1y=0\n",
    "# initial position fo robot 2\n",
    "r2x=4\n",
    "r2y=4\n",
    "#Goal of robot 1\n",
    "r1gx=4\n",
    "r1gy=4\n",
    "#Goal of robot 2\n",
    "r2gx=0\n",
    "r2gy=0\n",
    "obstacles=[[2,0],[3,0],[1,2],[3,2],[1,4],[2,4]]"
   ]
  },
  {
   "cell_type": "code",
   "execution_count": 3,
   "metadata": {},
   "outputs": [
    {
     "data": {
      "text/plain": [
       "15"
      ]
     },
     "execution_count": 3,
     "metadata": {},
     "output_type": "execute_result"
    }
   ],
   "source": [
    "def calculateVariable(t,r,x,y):\n",
    "    return str((t*R*N*N) + (r*N*N) + (x*N) + y + 1)\n",
    "    \n",
    "# Defining variables\n",
    "NumberOfVariables= (L+1)* R * N * N\n",
    "NumberOfClauses=1473\n",
    "f.write(\"p cnf \"+str(NumberOfVariables)+\" \"+ str(NumberOfClauses)+\"\\n\")"
   ]
  },
  {
   "cell_type": "markdown",
   "metadata": {},
   "source": [
    "# Constarints for intial and final states"
   ]
  },
  {
   "cell_type": "code",
   "execution_count": 4,
   "metadata": {},
   "outputs": [],
   "source": [
    "#Inital States t=0\n",
    "for r in range(R):\n",
    "    for i in range(N):\n",
    "        for j in range(N):             \n",
    "                if(r==0 and i==r1x and j==r1y):\n",
    "                    f.write(calculateVariable(0,r,i,j)+\" 0\\n\")\n",
    "                elif(r==1 and i==r2x and j==r2y):\n",
    "                    f.write(calculateVariable(0,r,i,j)+\" 0\\n\")\n",
    "                else:\n",
    "                    f.write(\"-\"+calculateVariable(0,r,i,j)+\" 0\\n\")\n",
    "\n",
    "#Final States  t=L  \n",
    "for r in range(R):\n",
    "    for i in range(N):\n",
    "        for j in range(N):\n",
    "            if(r==0 and i==r1gx and j==r1gy):\n",
    "                f.write(calculateVariable(L,r,i,j)+\" 0\\n\")\n",
    "            elif(r==1 and i==r2gx and j==r2gy):\n",
    "                f.write(calculateVariable(L,r,i,j)+\" 0\\n\")\n",
    "            else:\n",
    "                f.write(\"-\"+calculateVariable(L,r,i,j)+\" 0\\n\")\n"
   ]
  },
  {
   "cell_type": "markdown",
   "metadata": {},
   "source": [
    "# constraints for motion primitives"
   ]
  },
  {
   "cell_type": "code",
   "execution_count": 5,
   "metadata": {},
   "outputs": [],
   "source": [
    "for r in range(R):\n",
    "    for t in range(L):\n",
    "        for i in range(1,N-1):\n",
    "            for j in range(1,N-1):\n",
    "                f.write(\"-\"+calculateVariable(t+1,r,i,j)+\" \"+calculateVariable(t,r,i,j)+\" \"+calculateVariable(t,r,i+1,j)\n",
    "                       +\" \"+calculateVariable(t,r,i,j+1)+\" \"+calculateVariable(t,r,i-1,j)+\" \"+calculateVariable(t,r,i,j-1)+\" 0\\n\")\n",
    "\n",
    "#vertical corner motion                \n",
    "for r in range(R):\n",
    "    for t in range(L):\n",
    "        for i in [0,4]:\n",
    "            for j in [1,2,3]:\n",
    "                f.write(\"-\"+calculateVariable(t+1,r,i,j)+\" \"+calculateVariable(t,r,i,j)+\" \"+calculateVariable(t,r,i,j+1)\n",
    "                        +\" \"+calculateVariable(t,r,i,j-1))\n",
    "                if(i==0):\n",
    "                    f.write(\" \"+calculateVariable(t,r,i+1,j)+\" 0\\n\")\n",
    "                else:\n",
    "                    f.write(\" \"+calculateVariable(t,r,i-1,j)+\" 0\\n\")\n",
    "\n",
    "#horizontal corner motion                \n",
    "for r in range(R):\n",
    "    for t in range(L):\n",
    "        for i in [1,2,3]:\n",
    "            for j in [0,4]:\n",
    "                f.write(\"-\"+calculateVariable(t+1,r,i,j)+\" \"+calculateVariable(t,r,i,j)+\" \"+calculateVariable(t,r,i+1,j)\n",
    "                        +\" \"+calculateVariable(t,r,i-1,j))\n",
    "                if(j==0):\n",
    "                    f.write(\" \"+calculateVariable(t,r,i,j+1)+\" 0\\n\")\n",
    "                else:\n",
    "                    f.write(\" \"+calculateVariable(t,r,i,j-1)+\" 0\\n\")\n",
    "                \n",
    "#corner case\n",
    "for r in range(R):\n",
    "    for t in range(L):\n",
    "        f.write(\"-\"+calculateVariable(t+1,r,0,0)+\" \"+calculateVariable(t,r,0,0)\n",
    "               +\" \"+calculateVariable(t,r,1,0)+\" \"+calculateVariable(t,r,0,1)+\" 0\\n\")\n",
    "        f.write(\"-\"+calculateVariable(t+1,r,4,4)+\" \"+calculateVariable(t,r,4,4)\n",
    "               +\" \"+calculateVariable(t,r,3,4)+\" \"+calculateVariable(t,r,4,3)+\" 0\\n\")\n",
    "        f.write(\"-\"+calculateVariable(t+1,r,4,0)+\" \"+calculateVariable(t,r,4,0)\n",
    "               +\" \"+calculateVariable(t,r,3,0)+\" \"+calculateVariable(t,r,4,1)+\" 0\\n\")\n",
    "        f.write(\"-\"+calculateVariable(t+1,r,0,4)+\" \"+calculateVariable(t,r,0,4)\n",
    "               +\" \"+calculateVariable(t,r,0,3)+\" \"+calculateVariable(t,r,1,4)+\" 0\\n\")"
   ]
  },
  {
   "cell_type": "markdown",
   "metadata": {},
   "source": [
    "# constrains for obstacle avoidance"
   ]
  },
  {
   "cell_type": "code",
   "execution_count": 6,
   "metadata": {},
   "outputs": [],
   "source": [
    "for o in obstacles:\n",
    "    for r in range(R):\n",
    "        for t in range(L+1):\n",
    "            f.write(\"-\"+calculateVariable(t,r,o[0],o[1])+\" 0\\n\")"
   ]
  },
  {
   "cell_type": "markdown",
   "metadata": {},
   "source": [
    "# constraint for collision avoidance"
   ]
  },
  {
   "cell_type": "code",
   "execution_count": 7,
   "metadata": {},
   "outputs": [],
   "source": [
    "# same space collision avoidance\n",
    "for i in range(N):\n",
    "    for j in range(N):\n",
    "        for t in range(L+1):\n",
    "            f.write(\"-\"+calculateVariable(t,0,i,j)+\" -\"+calculateVariable(t,1,i,j)+\" 0\\n\")\n",
    "\n",
    "# headon collsion avoidance\n",
    "\n",
    "#Horizontal headon collision\n",
    "for i in range(N-1):\n",
    "    for j in range(N):\n",
    "        for t in range(L):\n",
    "            f.write(\"-\"+calculateVariable(t,0,i+1,j)+\" -\"+calculateVariable(t,1,i,j)\n",
    "                   +\" -\"+calculateVariable(t+1,0,i,j)+\" -\"+calculateVariable(t+1,1,i+1,j)+\" 0\\n\")\n",
    "            f.write(\"-\"+calculateVariable(t,1,i+1,j)+\" -\"+calculateVariable(t,0,i,j)\n",
    "                   +\" -\"+calculateVariable(t+1,1,i,j)+\" -\"+calculateVariable(t+1,0,i+1,j)+\" 0\\n\")\n",
    "\n",
    "#Vertical headon collision\n",
    "for i in range(N):\n",
    "    for j in range(N-1):\n",
    "        for t in range(L):\n",
    "            f.write(\"-\"+calculateVariable(t,0,i,j+1)+\" -\"+calculateVariable(t,1,i,j)\n",
    "                   +\" -\"+calculateVariable(t+1,0,i,j)+\" -\"+calculateVariable(t+1,1,i,j+1)+\" 0\\n\")\n",
    "            f.write(\"-\"+calculateVariable(t,1,i,j+1)+\" -\"+calculateVariable(t,0,i,j)\n",
    "                   +\" -\"+calculateVariable(t+1,1,i,j)+\" -\"+calculateVariable(t+1,0,i,j+1)+\" 0\\n\")\n"
   ]
  },
  {
   "cell_type": "code",
   "execution_count": 8,
   "metadata": {},
   "outputs": [],
   "source": [
    "f.close()"
   ]
  },
  {
   "cell_type": "code",
   "execution_count": null,
   "metadata": {},
   "outputs": [],
   "source": []
  }
 ],
 "metadata": {
  "kernelspec": {
   "display_name": "Python 3",
   "language": "python",
   "name": "python3"
  },
  "language_info": {
   "codemirror_mode": {
    "name": "ipython",
    "version": 3
   },
   "file_extension": ".py",
   "mimetype": "text/x-python",
   "name": "python",
   "nbconvert_exporter": "python",
   "pygments_lexer": "ipython3",
   "version": "3.7.4"
  }
 },
 "nbformat": 4,
 "nbformat_minor": 2
}
